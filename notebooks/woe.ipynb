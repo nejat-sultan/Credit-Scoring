{
 "cells": [
  {
   "cell_type": "code",
   "execution_count": 4,
   "id": "fce45598-8bba-4952-9ad6-86eb36c18426",
   "metadata": {},
   "outputs": [
    {
     "name": "stdout",
     "output_type": "stream",
     "text": [
      "Collecting woe\n",
      "  Downloading woe-0.1.4-py3-none-any.whl.metadata (4.8 kB)\n",
      "Requirement already satisfied: matplotlib>=2.0.0 in c:\\users\\nejat\\anaconda3\\lib\\site-packages (from woe) (3.8.0)\n",
      "Requirement already satisfied: numpy>=1.11.3 in c:\\users\\nejat\\anaconda3\\lib\\site-packages (from woe) (1.26.4)\n",
      "Requirement already satisfied: pandas>=0.19.2 in c:\\users\\nejat\\anaconda3\\lib\\site-packages (from woe) (2.1.4)\n",
      "Requirement already satisfied: scipy>=0.18.1 in c:\\users\\nejat\\anaconda3\\lib\\site-packages (from woe) (1.11.4)\n",
      "Requirement already satisfied: contourpy>=1.0.1 in c:\\users\\nejat\\anaconda3\\lib\\site-packages (from matplotlib>=2.0.0->woe) (1.2.0)\n",
      "Requirement already satisfied: cycler>=0.10 in c:\\users\\nejat\\anaconda3\\lib\\site-packages (from matplotlib>=2.0.0->woe) (0.11.0)\n",
      "Requirement already satisfied: fonttools>=4.22.0 in c:\\users\\nejat\\anaconda3\\lib\\site-packages (from matplotlib>=2.0.0->woe) (4.25.0)\n",
      "Requirement already satisfied: kiwisolver>=1.0.1 in c:\\users\\nejat\\anaconda3\\lib\\site-packages (from matplotlib>=2.0.0->woe) (1.4.4)\n",
      "Requirement already satisfied: packaging>=20.0 in c:\\users\\nejat\\anaconda3\\lib\\site-packages (from matplotlib>=2.0.0->woe) (23.1)\n",
      "Requirement already satisfied: pillow>=6.2.0 in c:\\users\\nejat\\anaconda3\\lib\\site-packages (from matplotlib>=2.0.0->woe) (10.2.0)\n",
      "Requirement already satisfied: pyparsing>=2.3.1 in c:\\users\\nejat\\anaconda3\\lib\\site-packages (from matplotlib>=2.0.0->woe) (3.0.9)\n",
      "Requirement already satisfied: python-dateutil>=2.7 in c:\\users\\nejat\\anaconda3\\lib\\site-packages (from matplotlib>=2.0.0->woe) (2.8.2)\n",
      "Requirement already satisfied: pytz>=2020.1 in c:\\users\\nejat\\anaconda3\\lib\\site-packages (from pandas>=0.19.2->woe) (2023.3.post1)\n",
      "Requirement already satisfied: tzdata>=2022.1 in c:\\users\\nejat\\anaconda3\\lib\\site-packages (from pandas>=0.19.2->woe) (2023.3)\n",
      "Requirement already satisfied: six>=1.5 in c:\\users\\nejat\\anaconda3\\lib\\site-packages (from python-dateutil>=2.7->matplotlib>=2.0.0->woe) (1.16.0)\n",
      "Downloading woe-0.1.4-py3-none-any.whl (19 kB)\n",
      "Installing collected packages: woe\n",
      "Successfully installed woe-0.1.4\n"
     ]
    }
   ],
   "source": [
    "!pip install woe"
   ]
  },
  {
   "cell_type": "code",
   "execution_count": 15,
   "id": "fe0845a6-ad91-4e1a-b6aa-27ffd0e66d5e",
   "metadata": {},
   "outputs": [
    {
     "name": "stdout",
     "output_type": "stream",
     "text": [
      "Requirement already satisfied: woe in c:\\users\\nejat\\anaconda3\\lib\\site-packages (0.1.4)\n",
      "Requirement already satisfied: matplotlib>=2.0.0 in c:\\users\\nejat\\anaconda3\\lib\\site-packages (from woe) (3.8.0)\n",
      "Requirement already satisfied: numpy>=1.11.3 in c:\\users\\nejat\\anaconda3\\lib\\site-packages (from woe) (1.26.4)\n",
      "Requirement already satisfied: pandas>=0.19.2 in c:\\users\\nejat\\anaconda3\\lib\\site-packages (from woe) (2.1.4)\n",
      "Requirement already satisfied: scipy>=0.18.1 in c:\\users\\nejat\\anaconda3\\lib\\site-packages (from woe) (1.11.4)\n",
      "Requirement already satisfied: contourpy>=1.0.1 in c:\\users\\nejat\\anaconda3\\lib\\site-packages (from matplotlib>=2.0.0->woe) (1.2.0)\n",
      "Requirement already satisfied: cycler>=0.10 in c:\\users\\nejat\\anaconda3\\lib\\site-packages (from matplotlib>=2.0.0->woe) (0.11.0)\n",
      "Requirement already satisfied: fonttools>=4.22.0 in c:\\users\\nejat\\anaconda3\\lib\\site-packages (from matplotlib>=2.0.0->woe) (4.25.0)\n",
      "Requirement already satisfied: kiwisolver>=1.0.1 in c:\\users\\nejat\\anaconda3\\lib\\site-packages (from matplotlib>=2.0.0->woe) (1.4.4)\n",
      "Requirement already satisfied: packaging>=20.0 in c:\\users\\nejat\\anaconda3\\lib\\site-packages (from matplotlib>=2.0.0->woe) (23.1)\n",
      "Requirement already satisfied: pillow>=6.2.0 in c:\\users\\nejat\\anaconda3\\lib\\site-packages (from matplotlib>=2.0.0->woe) (10.2.0)\n",
      "Requirement already satisfied: pyparsing>=2.3.1 in c:\\users\\nejat\\anaconda3\\lib\\site-packages (from matplotlib>=2.0.0->woe) (3.0.9)\n",
      "Requirement already satisfied: python-dateutil>=2.7 in c:\\users\\nejat\\anaconda3\\lib\\site-packages (from matplotlib>=2.0.0->woe) (2.8.2)\n",
      "Requirement already satisfied: pytz>=2020.1 in c:\\users\\nejat\\anaconda3\\lib\\site-packages (from pandas>=0.19.2->woe) (2023.3.post1)\n",
      "Requirement already satisfied: tzdata>=2022.1 in c:\\users\\nejat\\anaconda3\\lib\\site-packages (from pandas>=0.19.2->woe) (2023.3)\n",
      "Requirement already satisfied: six>=1.5 in c:\\users\\nejat\\anaconda3\\lib\\site-packages (from python-dateutil>=2.7->matplotlib>=2.0.0->woe) (1.16.0)\n"
     ]
    }
   ],
   "source": [
    "!pip install --upgrade woe"
   ]
  },
  {
   "cell_type": "code",
   "execution_count": 16,
   "id": "1755820b-8365-4ec2-9132-298d48bf925b",
   "metadata": {},
   "outputs": [
    {
     "ename": "ImportError",
     "evalue": "cannot import name 'WoE' from 'woe' (C:\\Users\\nejat\\anaconda3\\Lib\\site-packages\\woe\\__init__.py)",
     "output_type": "error",
     "traceback": [
      "\u001b[1;31m---------------------------------------------------------------------------\u001b[0m",
      "\u001b[1;31mImportError\u001b[0m                               Traceback (most recent call last)",
      "Cell \u001b[1;32mIn[16], line 5\u001b[0m\n\u001b[0;32m      3\u001b[0m \u001b[38;5;28;01mimport\u001b[39;00m \u001b[38;5;21;01mmatplotlib\u001b[39;00m\u001b[38;5;21;01m.\u001b[39;00m\u001b[38;5;21;01mpyplot\u001b[39;00m \u001b[38;5;28;01mas\u001b[39;00m \u001b[38;5;21;01mplt\u001b[39;00m\n\u001b[0;32m      4\u001b[0m \u001b[38;5;28;01mimport\u001b[39;00m \u001b[38;5;21;01mseaborn\u001b[39;00m \u001b[38;5;28;01mas\u001b[39;00m \u001b[38;5;21;01msns\u001b[39;00m\n\u001b[1;32m----> 5\u001b[0m \u001b[38;5;28;01mfrom\u001b[39;00m \u001b[38;5;21;01mwoe\u001b[39;00m \u001b[38;5;28;01mimport\u001b[39;00m WoE\n",
      "\u001b[1;31mImportError\u001b[0m: cannot import name 'WoE' from 'woe' (C:\\Users\\nejat\\anaconda3\\Lib\\site-packages\\woe\\__init__.py)"
     ]
    }
   ],
   "source": [
    "import pandas as pd\n",
    "import numpy as np\n",
    "import matplotlib.pyplot as plt\n",
    "import seaborn as sns\n",
    "from woe import WoE"
   ]
  },
  {
   "cell_type": "code",
   "execution_count": 8,
   "id": "2535906e-9ff7-4ae4-8ec5-f22aba86963e",
   "metadata": {},
   "outputs": [
    {
     "name": "stdout",
     "output_type": "stream",
     "text": [
      "['__builtins__', '__cached__', '__doc__', '__file__', '__loader__', '__name__', '__package__', '__path__', '__spec__']\n",
      "         TransactionId         BatchId       AccountId       SubscriptionId  \\\n",
      "0  TransactionId_76871   BatchId_36123  AccountId_3957   SubscriptionId_887   \n",
      "1  TransactionId_73770   BatchId_15642  AccountId_4841  SubscriptionId_3829   \n",
      "2  TransactionId_26203   BatchId_53941  AccountId_4229   SubscriptionId_222   \n",
      "3    TransactionId_380  BatchId_102363   AccountId_648  SubscriptionId_2185   \n",
      "4  TransactionId_28195   BatchId_38780  AccountId_4841  SubscriptionId_3829   \n",
      "\n",
      "        CustomerId CurrencyCode  CountryCode    ProviderId     ProductId  \\\n",
      "0  CustomerId_4406          UGX          256  ProviderId_6  ProductId_10   \n",
      "1  CustomerId_4406          UGX          256  ProviderId_4   ProductId_6   \n",
      "2  CustomerId_4683          UGX          256  ProviderId_6   ProductId_1   \n",
      "3   CustomerId_988          UGX          256  ProviderId_1  ProductId_21   \n",
      "4   CustomerId_988          UGX          256  ProviderId_4   ProductId_6   \n",
      "\n",
      "      ProductCategory    ChannelId   Amount  Value  TransactionStartTime  \\\n",
      "0             airtime  ChannelId_3   1000.0   1000  2018-11-15T02:18:49Z   \n",
      "1  financial_services  ChannelId_2    -20.0     20  2018-11-15T02:19:08Z   \n",
      "2             airtime  ChannelId_3    500.0    500  2018-11-15T02:44:21Z   \n",
      "3        utility_bill  ChannelId_3  20000.0  21800  2018-11-15T03:32:55Z   \n",
      "4  financial_services  ChannelId_2   -644.0    644  2018-11-15T03:34:21Z   \n",
      "\n",
      "   PricingStrategy  FraudResult  \n",
      "0                2            0  \n",
      "1                2            0  \n",
      "2                2            0  \n",
      "3                2            0  \n",
      "4                2            0  \n"
     ]
    }
   ],
   "source": [
    "def load_data(file_path):\n",
    "    return pd.read_csv(file_path)\n",
    "\n",
    "file_path = 'C:/Users/nejat/AIM Projects/week6 data/data.csv'\n",
    "df = load_data(file_path)\n",
    "print(df.head())  "
   ]
  },
  {
   "cell_type": "code",
   "execution_count": 10,
   "id": "bdd19be9-2261-4a3c-882d-f676514d184e",
   "metadata": {},
   "outputs": [
    {
     "name": "stdout",
     "output_type": "stream",
     "text": [
      "RFMS Scores Calculated:\n",
      "        CustomerId  rfms_score\n",
      "0  CustomerId_4406   28.885870\n",
      "1  CustomerId_4406   28.885870\n",
      "2  CustomerId_4683   27.855733\n",
      "3   CustomerId_988   28.224254\n",
      "4   CustomerId_988   28.224254\n"
     ]
    }
   ],
   "source": [
    "def calculate_rfms(df):\n",
    "    df['TransactionStartTime'] = pd.to_datetime(df['TransactionStartTime'], errors='coerce')\n",
    "\n",
    "    current_date = df['TransactionStartTime'].max()\n",
    "    \n",
    "    df['recency'] = (current_date - df['TransactionStartTime']).dt.days\n",
    "    \n",
    "    frequency = df.groupby('CustomerId')['TransactionId'].count().reset_index()\n",
    "    frequency.columns = ['CustomerId', 'frequency']\n",
    "\n",
    "    monetary = df.groupby('CustomerId')['Amount'].sum().reset_index()\n",
    "    monetary.columns = ['CustomerId', 'monetary']\n",
    "\n",
    "    rfms = frequency.merge(monetary, on='CustomerId', how='left')\n",
    "    df = df.merge(rfms, on='CustomerId', how='left')\n",
    "\n",
    "    df['recency_score'] = (df['recency'].max() - df['recency']) / df['recency'].max() * 100\n",
    "    df['frequency_score'] = (df['frequency'] - df['frequency'].min()) / (df['frequency'].max() - df['frequency'].min()) * 100\n",
    "    df['monetary_score'] = (df['monetary'] - df['monetary'].min()) / (df['monetary'].max() - df['monetary'].min()) * 100\n",
    "\n",
    "    df['rfms_score'] = (df['recency_score'] * 0.15) + (df['frequency_score'] * 0.35) + (df['monetary_score'] * 0.50)\n",
    "    \n",
    "    return df\n",
    "\n",
    "df = calculate_rfms(df)\n",
    "print(\"RFMS Scores Calculated:\")\n",
    "print(df[['CustomerId', 'rfms_score']].head())"
   ]
  },
  {
   "cell_type": "code",
   "execution_count": 11,
   "id": "701b7062-f0ea-4fe8-a8cc-64b5cca0b4ea",
   "metadata": {},
   "outputs": [
    {
     "name": "stdout",
     "output_type": "stream",
     "text": [
      "\n",
      "Users Classified:\n",
      "        CustomerId risk_label\n",
      "0  CustomerId_4406        Bad\n",
      "1  CustomerId_4406        Bad\n",
      "2  CustomerId_4683        Bad\n",
      "3   CustomerId_988        Bad\n",
      "4   CustomerId_988        Bad\n"
     ]
    }
   ],
   "source": [
    "def classify_users(df, threshold=50):\n",
    "    df['risk_label'] = np.where(df['rfms_score'] >= threshold, 'Good', 'Bad')\n",
    "    return df\n",
    "\n",
    "df = classify_users(df)\n",
    "print(\"\\nUsers Classified:\")\n",
    "print(df[['CustomerId', 'risk_label']].head())"
   ]
  },
  {
   "cell_type": "code",
   "execution_count": 12,
   "id": "2ffc7213-0cca-42b4-8484-9548c6f771f4",
   "metadata": {},
   "outputs": [
    {
     "data": {
      "image/png": "[encoded data removed]",
      "text/plain": [
       "<Figure size 1200x600 with 1 Axes>"
      ]
     },
     "metadata": {},
     "output_type": "display_data"
    }
   ],
   "source": [
    "def visualize_rfms(df):\n",
    "    plt.figure(figsize=(12, 6))\n",
    "    sns.scatterplot(x='frequency', y='monetary', hue='risk_label', data=df)\n",
    "    plt.title(\"RFMS Space: Frequency vs Monetary\")\n",
    "    plt.xlabel(\"Frequency of Transactions\")\n",
    "    plt.ylabel(\"Total Transaction Amount\")\n",
    "    plt.legend(title='Risk Label')\n",
    "    plt.show()\n",
    "\n",
    "visualize_rfms(df)"
   ]
  },
  {
   "cell_type": "code",
   "execution_count": 19,
   "id": "4112bc9a-5486-4986-93d1-3ccec328202b",
   "metadata": {},
   "outputs": [
    {
     "name": "stdout",
     "output_type": "stream",
     "text": [
      "WoE Results:\n",
      "  Feature  good_count  bad_count       woe\n",
      "0       A           2          1  0.287682\n",
      "1       B           2          1  0.287682\n",
      "2       C           2          2 -0.405465\n",
      "Total Information Value (IV): 0.11552453009332421\n"
     ]
    }
   ],
   "source": [
    "def calculate_woe_iv(df, feature, target):\n",
    "    total_good = df[target].sum()\n",
    "    total_bad = len(df) - total_good\n",
    "\n",
    "    woe_df = df.groupby(feature)[target].agg(['count', 'sum']).reset_index()\n",
    "    woe_df.columns = [feature, 'total_count', 'good_count']\n",
    "\n",
    "    woe_df['bad_count'] = woe_df['total_count'] - woe_df['good_count']\n",
    "    woe_df['good_percentage'] = woe_df['good_count'] / total_good\n",
    "    woe_df['bad_percentage'] = woe_df['bad_count'] / total_bad\n",
    "\n",
    "    woe_df['woe'] = np.log(woe_df['good_percentage'] / woe_df['bad_percentage'].replace(0, np.nan))\n",
    "\n",
    "    woe_df['iv'] = (woe_df['good_percentage'] - woe_df['bad_percentage']) * woe_df['woe']\n",
    "    total_iv = woe_df['iv'].sum()\n",
    "\n",
    "    return woe_df[[feature, 'good_count', 'bad_count', 'woe']], total_iv\n",
    "\n",
    "woe_results, iv_value = calculate_woe_iv(df, 'Feature', 'Target')\n",
    "\n",
    "print(\"WoE Results:\")\n",
    "print(woe_results)\n",
    "print(f\"Total Information Value (IV): {iv_value}\")"
   ]
  },
  {
   "cell_type": "code",
   "execution_count": null,
   "id": "dd4a59ca-fa4a-40b2-86f9-0b7da385dc5e",
   "metadata": {},
   "outputs": [],
   "source": []
  }
 ],
 "metadata": {
  "kernelspec": {
   "display_name": "Python 3 (ipykernel)",
   "language": "python",
   "name": "python3"
  },
  "language_info": {
   "codemirror_mode": {
    "name": "ipython",
    "version": 3
   },
   "file_extension": ".py",
   "mimetype": "text/x-python",
   "name": "python",
   "nbconvert_exporter": "python",
   "pygments_lexer": "ipython3",
   "version": "3.11.7"
  }
 },
 "nbformat": 4,
 "nbformat_minor": 5
}
