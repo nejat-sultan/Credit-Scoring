{
 "cells": [
  {
   "cell_type": "code",
   "execution_count": 3,
   "id": "334ec1ca-5c07-492b-9c9b-a872ad330924",
   "metadata": {},
   "outputs": [
    {
     "name": "stdout",
     "output_type": "stream",
     "text": [
      "         TransactionId         BatchId       AccountId       SubscriptionId  \\\n",
      "0  TransactionId_76871   BatchId_36123  AccountId_3957   SubscriptionId_887   \n",
      "1  TransactionId_73770   BatchId_15642  AccountId_4841  SubscriptionId_3829   \n",
      "2  TransactionId_26203   BatchId_53941  AccountId_4229   SubscriptionId_222   \n",
      "3    TransactionId_380  BatchId_102363   AccountId_648  SubscriptionId_2185   \n",
      "4  TransactionId_28195   BatchId_38780  AccountId_4841  SubscriptionId_3829   \n",
      "\n",
      "        CustomerId CurrencyCode  CountryCode    ProviderId     ProductId  \\\n",
      "0  CustomerId_4406          UGX          256  ProviderId_6  ProductId_10   \n",
      "1  CustomerId_4406          UGX          256  ProviderId_4   ProductId_6   \n",
      "2  CustomerId_4683          UGX          256  ProviderId_6   ProductId_1   \n",
      "3   CustomerId_988          UGX          256  ProviderId_1  ProductId_21   \n",
      "4   CustomerId_988          UGX          256  ProviderId_4   ProductId_6   \n",
      "\n",
      "      ProductCategory    ChannelId   Amount  Value  TransactionStartTime  \\\n",
      "0             airtime  ChannelId_3   1000.0   1000  2018-11-15T02:18:49Z   \n",
      "1  financial_services  ChannelId_2    -20.0     20  2018-11-15T02:19:08Z   \n",
      "2             airtime  ChannelId_3    500.0    500  2018-11-15T02:44:21Z   \n",
      "3        utility_bill  ChannelId_3  20000.0  21800  2018-11-15T03:32:55Z   \n",
      "4  financial_services  ChannelId_2   -644.0    644  2018-11-15T03:34:21Z   \n",
      "\n",
      "   PricingStrategy  FraudResult  \n",
      "0                2            0  \n",
      "1                2            0  \n",
      "2                2            0  \n",
      "3                2            0  \n",
      "4                2            0  \n"
     ]
    }
   ],
   "source": [
    "import pandas as pd\n",
    "from sklearn.preprocessing import OneHotEncoder, LabelEncoder, StandardScaler, MinMaxScaler\n",
    "from sklearn.impute import SimpleImputer\n",
    "\n",
    "def load_data(file_path):\n",
    "    return pd.read_csv(file_path)\n",
    "\n",
    "file_path = 'C:/Users/nejat/AIM Projects/week6 data/data.csv'\n",
    "df = load_data(file_path)\n",
    "print(df.head())  "
   ]
  },
  {
   "cell_type": "code",
   "execution_count": 7,
   "id": "e5550911-1b2b-4714-aff3-9c8da0a6900b",
   "metadata": {},
   "outputs": [
    {
     "name": "stdout",
     "output_type": "stream",
     "text": [
      "Aggregate Features Added:\n",
      "        CustomerId  total_transaction_amount  average_transaction_amount  \\\n",
      "0  CustomerId_4406                 109921.75                  923.712185   \n",
      "1  CustomerId_4406                 109921.75                  923.712185   \n",
      "2  CustomerId_4683                   1000.00                  500.000000   \n",
      "3   CustomerId_988                 228727.20                 6019.136842   \n",
      "4   CustomerId_988                 228727.20                 6019.136842   \n",
      "\n",
      "   transaction_count  std_transaction_amount  \n",
      "0                119             3042.294251  \n",
      "1                119             3042.294251  \n",
      "2                  2                0.000000  \n",
      "3                 38            17169.241610  \n",
      "4                 38            17169.241610  \n"
     ]
    }
   ],
   "source": [
    "def create_aggregate_features(df):\n",
    "    df['total_transaction_amount'] = df.groupby('CustomerId')['Amount'].transform('sum')\n",
    "    df['average_transaction_amount'] = df.groupby('CustomerId')['Amount'].transform('mean')\n",
    "    df['transaction_count'] = df.groupby('CustomerId')['TransactionId'].transform('count')\n",
    "    df['std_transaction_amount'] = df.groupby('CustomerId')['Amount'].transform('std').fillna(0)\n",
    "    return df\n",
    "\n",
    "df = create_aggregate_features(df)\n",
    "print(\"Aggregate Features Added:\")\n",
    "print(df[['CustomerId', 'total_transaction_amount', 'average_transaction_amount', 'transaction_count', 'std_transaction_amount']].head())\n"
   ]
  },
  {
   "cell_type": "code",
   "execution_count": 8,
   "id": "6aa4900a-c2f0-4e27-a66c-94205aba4b81",
   "metadata": {},
   "outputs": [
    {
     "name": "stdout",
     "output_type": "stream",
     "text": [
      "\n",
      "Date Features Extracted:\n",
      "       TransactionStartTime  transaction_hour  transaction_day  \\\n",
      "0 2018-11-15 02:18:49+00:00                 2               15   \n",
      "1 2018-11-15 02:19:08+00:00                 2               15   \n",
      "2 2018-11-15 02:44:21+00:00                 2               15   \n",
      "3 2018-11-15 03:32:55+00:00                 3               15   \n",
      "4 2018-11-15 03:34:21+00:00                 3               15   \n",
      "\n",
      "   transaction_month  transaction_year  \n",
      "0                 11              2018  \n",
      "1                 11              2018  \n",
      "2                 11              2018  \n",
      "3                 11              2018  \n",
      "4                 11              2018  \n"
     ]
    }
   ],
   "source": [
    "def extract_date_features(df):\n",
    "    df['TransactionStartTime'] = pd.to_datetime(df['TransactionStartTime'])\n",
    "    \n",
    "    df['transaction_hour'] = df['TransactionStartTime'].dt.hour\n",
    "    df['transaction_day'] = df['TransactionStartTime'].dt.day\n",
    "    df['transaction_month'] = df['TransactionStartTime'].dt.month\n",
    "    df['transaction_year'] = df['TransactionStartTime'].dt.year\n",
    "    return df\n",
    "\n",
    "df = extract_date_features(df)\n",
    "print(\"\\nDate Features Extracted:\")\n",
    "print(df[['TransactionStartTime', 'transaction_hour', 'transaction_day', 'transaction_month', 'transaction_year']].head())\n"
   ]
  },
  {
   "cell_type": "code",
   "execution_count": 11,
   "id": "f370f518-61a5-476b-99b4-478625fc14b3",
   "metadata": {},
   "outputs": [
    {
     "name": "stdout",
     "output_type": "stream",
     "text": [
      "\n",
      "Categorical Features Encoded:\n",
      "         TransactionId         BatchId       AccountId       SubscriptionId  \\\n",
      "0  TransactionId_76871   BatchId_36123  AccountId_3957   SubscriptionId_887   \n",
      "1  TransactionId_73770   BatchId_15642  AccountId_4841  SubscriptionId_3829   \n",
      "2  TransactionId_26203   BatchId_53941  AccountId_4229   SubscriptionId_222   \n",
      "3    TransactionId_380  BatchId_102363   AccountId_648  SubscriptionId_2185   \n",
      "4  TransactionId_28195   BatchId_38780  AccountId_4841  SubscriptionId_3829   \n",
      "\n",
      "        CustomerId  CountryCode     ProductId    ChannelId   Amount  Value  \\\n",
      "0  CustomerId_4406          256  ProductId_10  ChannelId_3   1000.0   1000   \n",
      "1  CustomerId_4406          256   ProductId_6  ChannelId_2    -20.0     20   \n",
      "2  CustomerId_4683          256   ProductId_1  ChannelId_3    500.0    500   \n",
      "3   CustomerId_988          256  ProductId_21  ChannelId_3  20000.0  21800   \n",
      "4   CustomerId_988          256   ProductId_6  ChannelId_2   -644.0    644   \n",
      "\n",
      "   ... ProductCategory_other  ProductCategory_ticket  \\\n",
      "0  ...                 False                   False   \n",
      "1  ...                 False                   False   \n",
      "2  ...                 False                   False   \n",
      "3  ...                 False                   False   \n",
      "4  ...                 False                   False   \n",
      "\n",
      "   ProductCategory_transport  ProductCategory_tv  \\\n",
      "0                      False               False   \n",
      "1                      False               False   \n",
      "2                      False               False   \n",
      "3                      False               False   \n",
      "4                      False               False   \n",
      "\n",
      "   ProductCategory_utility_bill  ProviderId_ProviderId_2  \\\n",
      "0                         False                    False   \n",
      "1                         False                    False   \n",
      "2                         False                    False   \n",
      "3                          True                    False   \n",
      "4                         False                    False   \n",
      "\n",
      "   ProviderId_ProviderId_3  ProviderId_ProviderId_4  ProviderId_ProviderId_5  \\\n",
      "0                    False                    False                    False   \n",
      "1                    False                     True                    False   \n",
      "2                    False                    False                    False   \n",
      "3                    False                    False                    False   \n",
      "4                    False                     True                    False   \n",
      "\n",
      "   ProviderId_ProviderId_6  \n",
      "0                     True  \n",
      "1                    False  \n",
      "2                     True  \n",
      "3                    False  \n",
      "4                    False  \n",
      "\n",
      "[5 rows x 34 columns]\n"
     ]
    }
   ],
   "source": [
    "def encode_categorical_features(df, categorical_cols):\n",
    "    missing_cols = [col for col in categorical_cols if col not in df.columns]\n",
    "    if missing_cols:\n",
    "        print(f\"The following columns are missing: {missing_cols}\")\n",
    "        return df\n",
    "    \n",
    "    df = pd.get_dummies(df, columns=categorical_cols, drop_first=True)\n",
    "\n",
    "    return df\n",
    "\n",
    "categorical_columns = ['ProductCategory', 'CurrencyCode', 'ProviderId']\n",
    "\n",
    "df = encode_categorical_features(df, categorical_columns)\n",
    "\n",
    "print(\"\\nCategorical Features Encoded:\")\n",
    "print(df.head())"
   ]
  },
  {
   "cell_type": "code",
   "execution_count": 10,
   "id": "e4e0a0d0-e89f-4292-97a2-ebca51855b66",
   "metadata": {},
   "outputs": [
    {
     "name": "stdout",
     "output_type": "stream",
     "text": [
      "Available columns: Index(['TransactionId', 'BatchId', 'AccountId', 'SubscriptionId', 'CustomerId',\n",
      "       'CurrencyCode', 'CountryCode', 'ProviderId', 'ProductId',\n",
      "       'ProductCategory', 'ChannelId', 'Amount', 'Value',\n",
      "       'TransactionStartTime', 'PricingStrategy', 'FraudResult',\n",
      "       'total_transaction_amount', 'average_transaction_amount',\n",
      "       'transaction_count', 'std_transaction_amount', 'transaction_hour',\n",
      "       'transaction_day', 'transaction_month', 'transaction_year'],\n",
      "      dtype='object')\n"
     ]
    }
   ],
   "source": [
    "print(\"Available columns:\", df.columns)\n",
    "\n"
   ]
  },
  {
   "cell_type": "code",
   "execution_count": 13,
   "id": "0bb2d9d4-d92a-4d18-bc77-af67f57f8028",
   "metadata": {},
   "outputs": [
    {
     "name": "stdout",
     "output_type": "stream",
     "text": [
      "\n",
      "Missing Values Handled:\n",
      "TransactionId                         0\n",
      "BatchId                               0\n",
      "AccountId                             0\n",
      "SubscriptionId                        0\n",
      "CustomerId                            0\n",
      "CountryCode                           0\n",
      "ProductId                             0\n",
      "ChannelId                             0\n",
      "Amount                                0\n",
      "Value                                 0\n",
      "TransactionStartTime                  0\n",
      "PricingStrategy                       0\n",
      "FraudResult                           0\n",
      "total_transaction_amount              0\n",
      "average_transaction_amount            0\n",
      "transaction_count                     0\n",
      "std_transaction_amount                0\n",
      "transaction_hour                      0\n",
      "transaction_day                       0\n",
      "transaction_month                     0\n",
      "transaction_year                      0\n",
      "ProductCategory_data_bundles          0\n",
      "ProductCategory_financial_services    0\n",
      "ProductCategory_movies                0\n",
      "ProductCategory_other                 0\n",
      "ProductCategory_ticket                0\n",
      "ProductCategory_transport             0\n",
      "ProductCategory_tv                    0\n",
      "ProductCategory_utility_bill          0\n",
      "ProviderId_ProviderId_2               0\n",
      "ProviderId_ProviderId_3               0\n",
      "ProviderId_ProviderId_4               0\n",
      "ProviderId_ProviderId_5               0\n",
      "ProviderId_ProviderId_6               0\n",
      "dtype: int64\n"
     ]
    }
   ],
   "source": [
    "def handle_missing_values(df, strategy_numeric='mean', strategy_categorical='most_frequent'):\n",
    "    numeric_cols = df.select_dtypes(include=['number']).columns\n",
    "    categorical_cols = df.select_dtypes(include=['object']).columns\n",
    "    datetime_cols = df.select_dtypes(include=['datetime']).columns\n",
    "    \n",
    "    if len(numeric_cols) > 0:\n",
    "        numeric_imputer = SimpleImputer(strategy=strategy_numeric)\n",
    "        df[numeric_cols] = numeric_imputer.fit_transform(df[numeric_cols])\n",
    "    \n",
    "    if len(categorical_cols) > 0:\n",
    "        categorical_imputer = SimpleImputer(strategy=strategy_categorical)\n",
    "        df[categorical_cols] = categorical_imputer.fit_transform(df[categorical_cols])\n",
    "\n",
    "    for col in datetime_cols:\n",
    "        df[col].fillna(method='ffill', inplace=True)  # Forward fill as an example\n",
    "\n",
    "    return df\n",
    "\n",
    "df = handle_missing_values(df, strategy_numeric='mean', strategy_categorical='most_frequent')\n",
    "\n",
    "print(\"\\nMissing Values Handled:\")\n",
    "print(df.isnull().sum()) "
   ]
  },
  {
   "cell_type": "code",
   "execution_count": 14,
   "id": "92ef1d8b-85e8-44b3-9aef-9549544722cf",
   "metadata": {},
   "outputs": [
    {
     "name": "stdout",
     "output_type": "stream",
     "text": [
      "\n",
      "Numerical Features Standardized:\n",
      "     Amount     Value  total_transaction_amount  average_transaction_amount\n",
      "0 -0.046371 -0.072291                  0.170118                   -0.067623\n",
      "1 -0.054643 -0.080251                  0.170118                   -0.067623\n",
      "2 -0.050426 -0.076352                  0.165122                   -0.072568\n",
      "3  0.107717  0.096648                  0.175567                   -0.008155\n",
      "4 -0.059704 -0.075183                  0.175567                   -0.008155\n"
     ]
    }
   ],
   "source": [
    "def normalize_standardize_features(df, columns, method='normalize'):\n",
    "    if method == 'normalize':\n",
    "        scaler = MinMaxScaler()\n",
    "    elif method == 'standardize':\n",
    "        scaler = StandardScaler()\n",
    "    else:\n",
    "        raise ValueError(\"Method must be 'normalize' or 'standardize'\")\n",
    "    \n",
    "    df[columns] = scaler.fit_transform(df[columns])\n",
    "    return df\n",
    "\n",
    "numeric_columns = ['Amount', 'Value', 'total_transaction_amount', 'average_transaction_amount']\n",
    "df = normalize_standardize_features(df, numeric_columns, method='standardize')\n",
    "print(\"\\nNumerical Features Standardized:\")\n",
    "print(df[numeric_columns].head())"
   ]
  },
  {
   "cell_type": "code",
   "execution_count": null,
   "id": "0291a7ab-bdb1-476a-a9b8-402b5e671044",
   "metadata": {},
   "outputs": [],
   "source": []
  }
 ],
 "metadata": {
  "kernelspec": {
   "display_name": "Python 3 (ipykernel)",
   "language": "python",
   "name": "python3"
  },
  "language_info": {
   "codemirror_mode": {
    "name": "ipython",
    "version": 3
   },
   "file_extension": ".py",
   "mimetype": "text/x-python",
   "name": "python",
   "nbconvert_exporter": "python",
   "pygments_lexer": "ipython3",
   "version": "3.11.7"
  }
 },
 "nbformat": 4,
 "nbformat_minor": 5
}
